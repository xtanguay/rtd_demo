{
 "cells": [
  {
   "cell_type": "markdown",
   "id": "ca3923f7-9d7c-4633-a621-72843cc7e7dd",
   "metadata": {},
   "source": [
    "### Import libraries"
   ]
  },
  {
   "cell_type": "code",
   "execution_count": 1,
   "id": "7c1b9d43-ef56-47b8-b776-489ab5d46521",
   "metadata": {},
   "outputs": [],
   "source": [
    "import bw2io as bi\n",
    "import bw2data as bd\n",
    "import bw2calc as bc\n",
    "import os \n",
    "#from Training_library import *\n",
    "import Training_library.utils as tl"
   ]
  },
  {
   "cell_type": "markdown",
   "id": "3169d723-a1f3-4a9b-8750-1646cc575039",
   "metadata": {},
   "source": [
    "### Set project"
   ]
  },
  {
   "cell_type": "code",
   "execution_count": null,
   "id": "8de2f30f-ddc9-4864-9956-54810a5be5c7",
   "metadata": {},
   "outputs": [],
   "source": []
  },
  {
   "cell_type": "markdown",
   "id": "8b3a194d-886b-4d5c-b208-59de9e6f73a5",
   "metadata": {},
   "source": [
    "### Perform calculations"
   ]
  },
  {
   "cell_type": "code",
   "execution_count": null,
   "id": "74394844-dca9-48ea-9f70-00572162f6e1",
   "metadata": {},
   "outputs": [],
   "source": []
  },
  {
   "cell_type": "markdown",
   "id": "d9808f08-4e37-4746-bdb6-6af2370523d7",
   "metadata": {},
   "source": [
    "### Post-process (and figures)"
   ]
  },
  {
   "cell_type": "code",
   "execution_count": null,
   "id": "6e73d127-f3f1-4c81-b4d1-69bd5d7b15ae",
   "metadata": {},
   "outputs": [],
   "source": []
  },
  {
   "cell_type": "code",
   "execution_count": null,
   "id": "84685190-de96-4f61-91cc-f09dc30e1ae5",
   "metadata": {},
   "outputs": [],
   "source": []
  },
  {
   "cell_type": "markdown",
   "id": "ddd5f4c9-366a-4179-95d6-f579f638ed99",
   "metadata": {},
   "source": [
    "### Demonstration code"
   ]
  },
  {
   "cell_type": "code",
   "execution_count": 2,
   "id": "3eb05c8f-e552-4629-ac61-55d5afb44448",
   "metadata": {},
   "outputs": [
    {
     "name": "stdout",
     "output_type": "stream",
     "text": [
      "Hello_world\n"
     ]
    }
   ],
   "source": [
    "a_func = tl.make_a_function() \n",
    "print(a_func)"
   ]
  },
  {
   "cell_type": "code",
   "execution_count": 3,
   "id": "cb721117-849d-4558-8ec3-fb9c0b3b9d14",
   "metadata": {},
   "outputs": [
    {
     "data": {
      "text/plain": [
       "\u001b[1;31mSignature:\u001b[0m \u001b[0mtl\u001b[0m\u001b[1;33m.\u001b[0m\u001b[0mmake_a_function\u001b[0m\u001b[1;33m(\u001b[0m\u001b[1;33m)\u001b[0m\u001b[1;33m\u001b[0m\u001b[1;33m\u001b[0m\u001b[0m\n",
       "\u001b[1;31mDocstring:\u001b[0m <no docstring>\n",
       "\u001b[1;31mSource:\u001b[0m   \n",
       "\u001b[1;32mdef\u001b[0m \u001b[0mmake_a_function\u001b[0m\u001b[1;33m(\u001b[0m\u001b[1;33m)\u001b[0m\u001b[1;33m:\u001b[0m\u001b[1;33m\n",
       "\u001b[0m    \u001b[1;32mreturn\u001b[0m \u001b[1;34m'Hello_world'\u001b[0m\u001b[1;33m\u001b[0m\u001b[1;33m\u001b[0m\u001b[0m\n",
       "\u001b[1;31mFile:\u001b[0m      c:\\users\\xtang\\documents\\doctorat\\99 - autre\\group meetings\\github and rtd\\training_library\\utils.py\n",
       "\u001b[1;31mType:\u001b[0m      function"
      ]
     },
     "metadata": {},
     "output_type": "display_data"
    }
   ],
   "source": [
    "# Lets have a look where all this comes from..\n",
    "tl.make_a_function??"
   ]
  },
  {
   "cell_type": "code",
   "execution_count": 4,
   "id": "84d37198-c7be-449a-b0aa-2f971f3d6c2a",
   "metadata": {},
   "outputs": [
    {
     "name": "stdout",
     "output_type": "stream",
     "text": [
      "Hello World!\n"
     ]
    },
    {
     "data": {
      "text/plain": [
       "3"
      ]
     },
     "execution_count": 4,
     "metadata": {},
     "output_type": "execute_result"
    }
   ],
   "source": [
    "# Can this be even better?\n",
    "e = 1\n",
    "z = 2\n",
    "tl.make_an_explicit_function(e,z)"
   ]
  },
  {
   "cell_type": "code",
   "execution_count": 6,
   "id": "0f3f42a8-49f8-4ec5-872e-790466c9f9a1",
   "metadata": {},
   "outputs": [
    {
     "data": {
      "text/plain": [
       "\u001b[1;31mSignature:\u001b[0m \u001b[0mtl\u001b[0m\u001b[1;33m.\u001b[0m\u001b[0mmake_an_explicit_function\u001b[0m\u001b[1;33m(\u001b[0m\u001b[0ma\u001b[0m\u001b[1;33m,\u001b[0m \u001b[0mb\u001b[0m\u001b[1;33m)\u001b[0m\u001b[1;33m\u001b[0m\u001b[1;33m\u001b[0m\u001b[0m\n",
       "\u001b[1;31mSource:\u001b[0m   \n",
       "\u001b[1;32mdef\u001b[0m \u001b[0mmake_an_explicit_function\u001b[0m\u001b[1;33m(\u001b[0m\u001b[0ma\u001b[0m\u001b[1;33m,\u001b[0m\u001b[0mb\u001b[0m\u001b[1;33m)\u001b[0m\u001b[1;33m:\u001b[0m\u001b[1;33m\n",
       "\u001b[0m    \u001b[1;34m\"\"\"\n",
       "    Function description :\n",
       "        Simple function to add a with b.\n",
       "        That also prints 'Hello World'.. for reasons.\n",
       "    \n",
       "    Inputs : \n",
       "        a : int or float variable\n",
       "        b : int or float variable\n",
       "    \n",
       "    Returns : \n",
       "        The sum of a+b\n",
       "    \n",
       "    \"\"\"\u001b[0m\u001b[1;33m\n",
       "\u001b[0m    \u001b[1;33m\n",
       "\u001b[0m    \u001b[0mc\u001b[0m \u001b[1;33m=\u001b[0m \u001b[0ma\u001b[0m\u001b[1;33m+\u001b[0m\u001b[0mb\u001b[0m\u001b[1;33m\n",
       "\u001b[0m    \u001b[1;33m\n",
       "\u001b[0m    \u001b[1;33m\n",
       "\u001b[0m    \u001b[0mprint\u001b[0m\u001b[1;33m(\u001b[0m\u001b[1;34m'Hello World!'\u001b[0m\u001b[1;33m)\u001b[0m\u001b[1;33m\n",
       "\u001b[0m    \u001b[1;33m\n",
       "\u001b[0m    \u001b[1;32mreturn\u001b[0m \u001b[0mc\u001b[0m\u001b[1;33m\u001b[0m\u001b[1;33m\u001b[0m\u001b[0m\n",
       "\u001b[1;31mFile:\u001b[0m      c:\\users\\xtang\\documents\\doctorat\\99 - autre\\group meetings\\github and rtd\\training_library\\utils.py\n",
       "\u001b[1;31mType:\u001b[0m      function"
      ]
     },
     "metadata": {},
     "output_type": "display_data"
    }
   ],
   "source": [
    "tl.make_an_explicit_function??"
   ]
  },
  {
   "cell_type": "code",
   "execution_count": 5,
   "id": "aaae7a50-a52d-44a4-a385-89c8f3e0bb3b",
   "metadata": {},
   "outputs": [
    {
     "name": "stdout",
     "output_type": "stream",
     "text": [
      "File is in : C:\\Users\\xtang\\Documents\\Doctorat\\99 - Autre\\Group meetings\\Github and RTD\\Training_library\n",
      "Working directory is in : C:\\Users\\xtang\\Documents\\Doctorat\\99 - Autre\\Group meetings\\Github and RTD\n"
     ]
    }
   ],
   "source": [
    "# Again, lets try something else : \n",
    "tl.Tutorial.indicate_directories()"
   ]
  },
  {
   "cell_type": "code",
   "execution_count": null,
   "id": "27bcdb69-5f39-4fd3-a249-49ec82387756",
   "metadata": {},
   "outputs": [],
   "source": []
  },
  {
   "cell_type": "code",
   "execution_count": null,
   "id": "87182c56-1378-44cd-bbeb-38fe89cb8a0e",
   "metadata": {},
   "outputs": [],
   "source": []
  }
 ],
 "metadata": {
  "kernelspec": {
   "display_name": "Python 3 (ipykernel)",
   "language": "python",
   "name": "python3"
  },
  "language_info": {
   "codemirror_mode": {
    "name": "ipython",
    "version": 3
   },
   "file_extension": ".py",
   "mimetype": "text/x-python",
   "name": "python",
   "nbconvert_exporter": "python",
   "pygments_lexer": "ipython3",
   "version": "3.10.13"
  }
 },
 "nbformat": 4,
 "nbformat_minor": 5
}
